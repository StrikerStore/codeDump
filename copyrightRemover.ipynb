{
 "cells": [
  {
   "cell_type": "markdown",
   "metadata": {},
   "source": [
    "## MAIN CODE"
   ]
  },
  {
   "cell_type": "code",
   "execution_count": 1,
   "metadata": {},
   "outputs": [
    {
     "name": "stdout",
     "output_type": "stream",
     "text": [
      "Converted: C:\\Users\\keval\\Desktop\\Jersey\\Jersey Images\\New Season\\Manchester City Black 2025-26\\image1.png -> C:\\Users\\keval\\Desktop\\Jersey\\Jersey Images\\New Season\\Manchester City Black 2025-26\\Output\\.\\image1.png\n",
      "Converted: C:\\Users\\keval\\Desktop\\Jersey\\Jersey Images\\New Season\\Manchester City Black 2025-26\\image2.png -> C:\\Users\\keval\\Desktop\\Jersey\\Jersey Images\\New Season\\Manchester City Black 2025-26\\Output\\.\\image2.png\n",
      "Converted: C:\\Users\\keval\\Desktop\\Jersey\\Jersey Images\\New Season\\Manchester City Black 2025-26\\shopping (1).webp -> C:\\Users\\keval\\Desktop\\Jersey\\Jersey Images\\New Season\\Manchester City Black 2025-26\\Output\\.\\shopping (1).png\n",
      "Converted: C:\\Users\\keval\\Desktop\\Jersey\\Jersey Images\\New Season\\Manchester City Black 2025-26\\🖤 The Manchester City 25-26 Away Kit beautifully blends the club’s rich heritage with modern pe (1).jpg -> C:\\Users\\keval\\Desktop\\Jersey\\Jersey Images\\New Season\\Manchester City Black 2025-26\\Output\\.\\🖤 The Manchester City 25-26 Away Kit beautifully blends the club’s rich heritage with modern pe (1).png\n",
      "Converted: C:\\Users\\keval\\Desktop\\Jersey\\Jersey Images\\New Season\\Manchester City Black 2025-26\\🖤 The Manchester City 25-26 Away Kit beautifully blends the club’s rich heritage with modern pe.jpg -> C:\\Users\\keval\\Desktop\\Jersey\\Jersey Images\\New Season\\Manchester City Black 2025-26\\Output\\.\\🖤 The Manchester City 25-26 Away Kit beautifully blends the club’s rich heritage with modern pe.png\n",
      "CSV file with AVIF locations saved at: C:\\Users\\keval\\Desktop\\Jersey\\Jersey Images\\New Season\\Manchester City Black 2025-26\\avif_files.csv\n"
     ]
    }
   ],
   "source": [
    "import os\n",
    "import csv\n",
    "import shutil\n",
    "from PIL import Image\n",
    "\n",
    "def convert_to_png(input_image, output_image):\n",
    "    \"\"\"\n",
    "    Convert an image to PNG format while removing any EXIF metadata.\n",
    "    \"\"\"\n",
    "    try:\n",
    "        with Image.open(input_image) as img:\n",
    "            img.info.pop(\"exif\", None)  # Remove EXIF metadata\n",
    "            img.save(output_image, format=\"PNG\")\n",
    "        print(f\"Converted: {input_image} -> {output_image}\")\n",
    "    except Exception as e:\n",
    "        print(f\"Error processing {input_image}: {e}\")\n",
    "\n",
    "def traverse_and_convert(input_folder, output_folder, avif_folder, avif_csv):\n",
    "    \"\"\"\n",
    "    Convert images to PNG, move AVIF files to a separate folder, and generate CSV.\n",
    "    \"\"\"\n",
    "    avif_file_paths = []\n",
    "\n",
    "    for root, dirs, files in os.walk(input_folder):\n",
    "        # Skip output and avif folders\n",
    "        dirs[:] = [d for d in dirs if os.path.abspath(os.path.join(root, d)) not in \n",
    "                   [os.path.abspath(output_folder), os.path.abspath(avif_folder)]]\n",
    "\n",
    "        for file in files:\n",
    "            input_file_path = os.path.join(root, file)\n",
    "            relative_path = os.path.relpath(root, input_folder)\n",
    "            output_subfolder = os.path.join(output_folder, relative_path)\n",
    "            os.makedirs(output_subfolder, exist_ok=True)\n",
    "\n",
    "            # Handle AVIF files (Move them to avif_folder)\n",
    "            if file.lower().endswith(\".avif\"):\n",
    "                avif_output_path = os.path.join(avif_folder, file)\n",
    "                if os.path.abspath(input_file_path) != os.path.abspath(avif_output_path):\n",
    "                    shutil.copy(input_file_path, avif_output_path)  # Copy AVIF file\n",
    "                    print(f\"Copied AVIF: {input_file_path} -> {avif_output_path}\")\n",
    "                else:\n",
    "                    print(f\"Skipped copying (same file): {input_file_path}\")\n",
    "                avif_file_paths.append([relative_path, file])\n",
    "\n",
    "            # Convert other formats to PNG\n",
    "            elif file.lower().endswith((\".jpg\", \".jpeg\", \".webp\", \".png\")):\n",
    "                output_file_name = os.path.splitext(file)[0] + \".png\"\n",
    "                output_file_path = os.path.join(output_subfolder, output_file_name)\n",
    "                convert_to_png(input_file_path, output_file_path)\n",
    "\n",
    "    # Save AVIF file paths to CSV\n",
    "    with open(avif_csv, mode=\"w\", newline=\"\", encoding=\"utf-8\") as csvfile:\n",
    "        writer = csv.writer(csvfile)\n",
    "        writer.writerow([\"Relative Path\", \"Original AVIF Filename\"])\n",
    "        writer.writerows(avif_file_paths)\n",
    "\n",
    "    print(f\"CSV file with AVIF locations saved at: {avif_csv}\")\n",
    "\n",
    "\n",
    "# Example Usage\n",
    "\n",
    "base_directory = r\"C:\\Users\\keval\\Desktop\\Jersey\\Jersey Images\\New Season\\Manchester City Black 2025-26\"\n",
    "\n",
    "input_directory = base_directory\n",
    "output_directory = os.path.join(base_directory, \"Output\")\n",
    "avif_folder = os.path.join(base_directory, \"avif_to_convert\")\n",
    "avif_csv_path = os.path.join(base_directory, \"avif_files.csv\")\n",
    "\n",
    "# Ensure necessary directories exist\n",
    "os.makedirs(output_directory, exist_ok=True)\n",
    "os.makedirs(avif_folder, exist_ok=True)\n",
    "\n",
    "# Start conversion process\n",
    "traverse_and_convert(input_directory, output_directory, avif_folder, avif_csv_path)\n"
   ]
  },
  {
   "cell_type": "code",
   "execution_count": null,
   "metadata": {},
   "outputs": [],
   "source": []
  }
 ],
 "metadata": {
  "kernelspec": {
   "display_name": "Python 3",
   "language": "python",
   "name": "python3"
  },
  "language_info": {
   "codemirror_mode": {
    "name": "ipython",
    "version": 3
   },
   "file_extension": ".py",
   "mimetype": "text/x-python",
   "name": "python",
   "nbconvert_exporter": "python",
   "pygments_lexer": "ipython3",
   "version": "3.10.5"
  }
 },
 "nbformat": 4,
 "nbformat_minor": 2
}
